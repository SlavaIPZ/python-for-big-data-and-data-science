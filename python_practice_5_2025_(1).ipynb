{
  "nbformat": 4,
  "nbformat_minor": 0,
  "metadata": {
    "colab": {
      "provenance": []
    },
    "kernelspec": {
      "name": "python3",
      "display_name": "Python 3"
    },
    "language_info": {
      "name": "python"
    }
  },
  "cells": [
    {
      "cell_type": "markdown",
      "source": [
        "# I. OOP"
      ],
      "metadata": {
        "id": "5qV_sehzFCTp"
      }
    },
    {
      "cell_type": "markdown",
      "source": [
        "1. (6б). Створіть клас Building, додайте три атрибути, один з яких має значення за замовчуванням та два методи на свій розсуд."
      ],
      "metadata": {
        "id": "tx_U_hOALyfg"
      }
    },
    {
      "cell_type": "code",
      "source": [
        "class Building:\n",
        "    avenue_name = \"Independence Avenue\"\n",
        "\n",
        "    def __init__(self, shade, identifier, levels=5):\n",
        "        self.shade = shade\n",
        "        self.identifier = identifier\n",
        "        self.levels = levels\n",
        "\n",
        "    def add_floors(self, extra_floors):\n",
        "        self.levels += extra_floors\n",
        "        return f\"The structure now has {self.levels} floors.\"\n",
        "\n",
        "    def relocate(self, new_identifier):\n",
        "        self.identifier = new_identifier\n",
        "        return f\"The structure is now located at {self.avenue_name}, {self.identifier}.\"\n",
        "\n",
        "    def __str__(self):\n",
        "        return f\"The structure on {self.avenue_name}, {self.identifier} is {self.shade} and has {self.levels} floors.\"\n"
      ],
      "metadata": {
        "id": "-Vf895KaL88N"
      },
      "execution_count": null,
      "outputs": []
    },
    {
      "cell_type": "markdown",
      "source": [
        "2. (2б). Створіть два обʼєкти цього класу, де один з обʼєктів створюється із дефолтним значенням атрибуту. На одному обʼєкті отримайте значення його атрибуту, а на іншому викличте один з його методів."
      ],
      "metadata": {
        "id": "X_UlOMB0L93w"
      }
    },
    {
      "cell_type": "code",
      "source": [
        "building1 = Building(\"dark grey\", 101, 8)\n",
        "building2 = Building(\"red\", 202)\n",
        "print(building1.relocate(103))\n",
        "print(building2.levels)\n",
        "print(building2.add_floors(3))"
      ],
      "metadata": {
        "id": "7gBu0ESOMCpG"
      },
      "execution_count": null,
      "outputs": []
    },
    {
      "cell_type": "markdown",
      "source": [
        "3. (5б). Створіть клас, де атрибути мають різні рівні доступу. Спробуйте отримати їхні значення та опишіть результати."
      ],
      "metadata": {
        "id": "HoqSCZt1MHn5"
      }
    },
    {
      "cell_type": "code",
      "source": [
        "class University:\n",
        "    def __init__(self, name, location, ranking):\n",
        "        self.name = name\n",
        "        self._location = location\n",
        "        self.__ranking = ranking\n",
        "\n",
        "    def get_ranking(self):\n",
        "        return self.__ranking\n",
        "\n",
        "univ = University(\"Naukma\", \"Kyiv\", 5)\n",
        "\n",
        "print(univ.name)\n",
        "print(univ._location)\n",
        "print(univ.get_ranking())"
      ],
      "metadata": {
        "id": "r9b3vJxBMSPV"
      },
      "execution_count": null,
      "outputs": []
    },
    {
      "cell_type": "markdown",
      "source": [
        "4. (7б). Як ви розумієте термін self? Для чого використовується метод __init __?"
      ],
      "metadata": {
        "id": "5op2m2vgMSkZ"
      }
    },
    {
      "cell_type": "markdown",
      "source": [
        "`self` посилається на поточний екземпляр класу. Його використовують у методах для доступу до атрибутів і методів об'єкта.\n",
        "`__init__` визначає, які атрибути повинен мати кожен екземпляр класу, і виконується під час його створення."
      ],
      "metadata": {
        "id": "DyiPqNRvMasx"
      }
    },
    {
      "cell_type": "markdown",
      "source": [
        "5. (9б). Створіть клас 3D-фігура без атрибутів, з методом get_volume для отримання об'єму фігури, що повертає 0 та __add __, який приймає self та other в якості аргументів, а повертає суму об'ємів 3d-фігур self та other."
      ],
      "metadata": {
        "id": "-6X8EGfjMd2y"
      }
    },
    {
      "cell_type": "code",
      "source": [
        "class ThreeD_Figure:\n",
        "\n",
        "    def get_volume(self):\n",
        "        return 0\n",
        "\n",
        "    def __add__(self, other):\n",
        "        return self.get_volume() + other.get_volume()\n",
        "\n",
        "cylinder = ThreeD_Figure()\n",
        "cube = ThreeD_Figure()\n",
        "print(cylinder + cube)"
      ],
      "metadata": {
        "id": "4rvO_wYUMaEr",
        "colab": {
          "base_uri": "https://localhost:8080/"
        },
        "outputId": "0c2d1a85-ed10-494a-e870-4b58a02004f9"
      },
      "execution_count": 3,
      "outputs": [
        {
          "output_type": "stream",
          "name": "stdout",
          "text": [
            "0\n"
          ]
        }
      ]
    },
    {
      "cell_type": "markdown",
      "source": [
        "6. (11б). Створіть 2 дочірніх класи від 3d-фігура: Циліндр та Куб, які мають атрибути, необхідні для розрахунку об'єму. Визначте метод get_volume в кожному з них так, щоби вони розраховували об'єм у залежності від формули для кожного типу фігури. Створіть обʼєкт класу Циліндр та обʼєкт класу Куб. Виконайте операцію суми за допомогою оператора + між ними, аби знайти сумарний об'єм."
      ],
      "metadata": {
        "id": "SFcKnnv5Mo_z"
      }
    },
    {
      "cell_type": "code",
      "source": [
        "class Cylinder(ThreeD_Figure):\n",
        "    def __init__(self,height, radius):\n",
        "        self.height = height\n",
        "        self.radius = radius\n",
        "\n",
        "    def get_volume(self):\n",
        "        return 3.14 * self.radius**2 * self.height\n",
        "\n",
        "class Cube(ThreeD_Figure):\n",
        "    def __init__(self, length):\n",
        "        self.length = length\n",
        "\n",
        "    def get_volume(self):\n",
        "        return self.length**3\n",
        "\n",
        "cylinder = Cylinder(20, 5)\n",
        "cube = Cube(10)\n",
        "print(cylinder.get_volume())\n",
        "print(cube.get_volume())\n",
        "print(cube + cylinder)"
      ],
      "metadata": {
        "id": "H3GVNr69Muf3",
        "colab": {
          "base_uri": "https://localhost:8080/"
        },
        "outputId": "f02a54e6-c23f-46ea-f47a-3d3e6c46f01a"
      },
      "execution_count": 5,
      "outputs": [
        {
          "output_type": "stream",
          "name": "stdout",
          "text": [
            "1570.0\n",
            "1000\n",
            "2570.0\n"
          ]
        }
      ]
    },
    {
      "cell_type": "markdown",
      "source": [
        "7. (3б). Продемонструйте різницю між isinstance та issubclass."
      ],
      "metadata": {
        "id": "HCvR206YMvLK"
      }
    },
    {
      "cell_type": "code",
      "source": [
        "print(isinstance(cylinder, ThreeD_Figure))\n",
        "print(issubclass(Cylinder, ThreeD_Figure))"
      ],
      "metadata": {
        "id": "L_V1bBvDM0GN",
        "colab": {
          "base_uri": "https://localhost:8080/"
        },
        "outputId": "813acd16-41e2-4bab-acdb-6c96a495dff1"
      },
      "execution_count": 6,
      "outputs": [
        {
          "output_type": "stream",
          "name": "stdout",
          "text": [
            "True\n",
            "True\n"
          ]
        }
      ]
    },
    {
      "cell_type": "markdown",
      "source": [
        "8. (13б). Створіть клас EWallet з приватними атрибутами balance та id. Реалізуйте методи поповнення та зняття коштів, забезпечивши належну інкапсуляцію. Підказка: використовуйте декоратори property та setter."
      ],
      "metadata": {
        "id": "jjsaBZ-iM0Qq"
      }
    },
    {
      "cell_type": "code",
      "source": [
        "class EWallet:\n",
        "    def __init__(self, balance, id):\n",
        "        if balance < 0:\n",
        "            raise ValueError(\"Balance cannot be negative\")\n",
        "        self.__balance = balance\n",
        "        self.__id = id\n",
        "\n",
        "    @property\n",
        "    def balance(self):\n",
        "        return self.__balance\n",
        "\n",
        "    @balance.setter\n",
        "    def balance(self, value):\n",
        "        if value < 0:\n",
        "            raise ValueError(\"Balance cannot be negative\")\n",
        "        self.__balance = value\n",
        "\n",
        "    @property\n",
        "    def id(self):\n",
        "        return self.__id\n",
        "\n",
        "    def deposit(self, amount):\n",
        "        if amount <= 0:\n",
        "            raise ValueError(\"Amount not valid\")\n",
        "        self.__balance += amount\n",
        "\n",
        "    def withdraw(self, amount):\n",
        "        if amount <= 0 or amount > self.__balance:\n",
        "            raise ValueError(\"Amount not valid\")\n",
        "        self.__balance -= amount\n",
        "\n",
        "\n",
        "wallet = EWallet(100, \"K777O\")\n",
        "print(wallet.id, wallet.balance)\n",
        "print(wallet.deposit(1055))\n",
        "print(wallet.balance)\n",
        "print(wallet.withdraw(80))\n",
        "print(wallet.balance)"
      ],
      "metadata": {
        "id": "xCvZ7lh8M7YA",
        "colab": {
          "base_uri": "https://localhost:8080/"
        },
        "outputId": "fcd12900-f228-4b3b-b8fe-ddc74e993ea0"
      },
      "execution_count": 9,
      "outputs": [
        {
          "output_type": "stream",
          "name": "stdout",
          "text": [
            "K777O 100\n",
            "New balance: 1155\n",
            "New balance: 1075\n"
          ]
        }
      ]
    },
    {
      "cell_type": "markdown",
      "source": [
        "9. (11б). Створіть клас ShoppingCart, який містить список об'єктів типу Item. Реалізуйте методи для додавання айтемів, їх видалення та відображення списку айтемів."
      ],
      "metadata": {
        "id": "tIzL2SJTM8ft"
      }
    },
    {
      "cell_type": "code",
      "source": [
        "class Item:\n",
        "\n",
        "    def __init__(self, name, price):\n",
        "         self.name = name\n",
        "         self.price = price\n",
        "\n",
        "    def __str__(self):\n",
        "         return f\"{self.name}, {self.price}\"\n",
        "\n",
        "\n",
        "class ShoppingCart:\n",
        "    def __init__(self):\n",
        "         self.items = list()\n",
        "\n",
        "    def add(self, item):\n",
        "         if isinstance(item, Item):\n",
        "             self.items.append(item)\n",
        "             return f\"{item} added\"\n",
        "\n",
        "    def remove(self, item_name):\n",
        "        for item in self.items:\n",
        "            if item.name == item_name:\n",
        "                self.items.remove(item)\n",
        "                return f\"{item_name} removed\"\n",
        "        return f\"{item_name} not in the cart.\"\n",
        "\n",
        "    def __str__(self):\n",
        "        return f\"cart: {'; '.join(str(item) for item in self.items)}\"\n",
        "\n",
        "cart = ShoppingCart()\n",
        "cart.add(Item(\"Tomatoes\", 33.50))\n",
        "cart.add(Item(\"Chokolate bar\", 100.00))\n",
        "print(cart)\n",
        "cart.remove(\"Chokolate bar\")\n",
        "print(cart)"
      ],
      "metadata": {
        "id": "HWxfJKLtNAUZ",
        "colab": {
          "base_uri": "https://localhost:8080/"
        },
        "outputId": "a45d69ea-992c-4490-ffef-4e95c099ee57"
      },
      "execution_count": 14,
      "outputs": [
        {
          "output_type": "stream",
          "name": "stdout",
          "text": [
            "cart: Tomatoes, 33.5; Chokolate bar, 100.0\n",
            "cart: Tomatoes, 33.5\n"
          ]
        }
      ]
    },
    {
      "cell_type": "markdown",
      "source": [
        "10. (13б). Створіть клас Vehicle з атрибутами brand (manufacturer) та production_age. Створіть ще один клас Engine з такими атрибутами, як type (ex. petrol) та size (volume, litres). Створіть клас Car, який успадковує обидва класи Vehicle та Engine. Продемонструйте використання множинної спадковості, створивши обʼєкт класу Car та отримавши mro для цього класу."
      ],
      "metadata": {
        "id": "lmV8pAwwNIqu"
      }
    },
    {
      "cell_type": "code",
      "source": [
        "class Vehicle:\n",
        "\n",
        "    def __init__(self, brand, production_age):\n",
        "        self.brand = brand\n",
        "        self.production_age = production_age\n",
        "\n",
        "    def output_vehicle(self):\n",
        "        return f\"brand: {self.brand}, age: {self.production_age}\"\n",
        "\n",
        "class Engine:\n",
        "\n",
        "    def __init__(self, type, size):\n",
        "        self.type = type\n",
        "        self.size = size\n",
        "\n",
        "    def output_engine(self):\n",
        "        return f\"engine: {self.type}, size: {self.size}L\"\n",
        "\n",
        "\n",
        "class Car(Vehicle, Engine):\n",
        "\n",
        "    def __init__(self, brand, production_age, type, size):\n",
        "        Vehicle.__init__(self, brand, production_age)\n",
        "        Engine.__init__(self, type, size)\n",
        "\n",
        "    def __str__(self):\n",
        "        return f\"{self.output_vehicle()}, {self.output_engine()}\"\n",
        "\n",
        "\n",
        "bmw = Car(\"BMW\", 1, \"diesel\", 1.5)\n",
        "print(bmw)\n",
        "print(Car.mro())\n"
      ],
      "metadata": {
        "id": "R49grKlWNPeN",
        "colab": {
          "base_uri": "https://localhost:8080/"
        },
        "outputId": "5e5c0146-d63f-4bfd-a55a-0df67dbb54e4"
      },
      "execution_count": 15,
      "outputs": [
        {
          "output_type": "stream",
          "name": "stdout",
          "text": [
            "brand: BMW, age: 1, engine: diesel, size: 1.5L\n",
            "[<class '__main__.Car'>, <class '__main__.Vehicle'>, <class '__main__.Engine'>, <class 'object'>]\n"
          ]
        }
      ]
    },
    {
      "cell_type": "markdown",
      "source": [
        "# II. Iterator"
      ],
      "metadata": {
        "id": "dIJyUiNBFG8G"
      }
    },
    {
      "cell_type": "markdown",
      "source": [
        "11. (4б). Визначте рядок(str) з 4ма різними за значенням символами. Створіть ітератор на основі цього рядка. Викличте 5 разів функцію next на ітераторі, 4ри перших з них огорніть у ф-цію print()."
      ],
      "metadata": {
        "id": "13vsm0NyKIzL"
      }
    },
    {
      "cell_type": "code",
      "source": [
        "random_str = \"abcd\"\n",
        "random_iter = iter(random_str)\n",
        "print(next(random_iter))\n",
        "print(next(random_iter))\n",
        "print(next(random_iter))\n",
        "print(next(random_iter))\n",
        "next(random_iter)\n"
      ],
      "metadata": {
        "id": "81ntabAkKuz-",
        "colab": {
          "base_uri": "https://localhost:8080/",
          "height": 245
        },
        "outputId": "98e8b518-1637-49c9-c69f-59376e5ab636"
      },
      "execution_count": 17,
      "outputs": [
        {
          "output_type": "stream",
          "name": "stdout",
          "text": [
            "a\n",
            "b\n",
            "c\n",
            "d\n"
          ]
        },
        {
          "output_type": "error",
          "ename": "StopIteration",
          "evalue": "",
          "traceback": [
            "\u001b[0;31m---------------------------------------------------------------------------\u001b[0m",
            "\u001b[0;31mStopIteration\u001b[0m                             Traceback (most recent call last)",
            "\u001b[0;32m<ipython-input-17-40161b6a37b7>\u001b[0m in \u001b[0;36m<cell line: 0>\u001b[0;34m()\u001b[0m\n\u001b[1;32m      5\u001b[0m \u001b[0mprint\u001b[0m\u001b[0;34m(\u001b[0m\u001b[0mnext\u001b[0m\u001b[0;34m(\u001b[0m\u001b[0mrandom_iter\u001b[0m\u001b[0;34m)\u001b[0m\u001b[0;34m)\u001b[0m\u001b[0;34m\u001b[0m\u001b[0;34m\u001b[0m\u001b[0m\n\u001b[1;32m      6\u001b[0m \u001b[0mprint\u001b[0m\u001b[0;34m(\u001b[0m\u001b[0mnext\u001b[0m\u001b[0;34m(\u001b[0m\u001b[0mrandom_iter\u001b[0m\u001b[0;34m)\u001b[0m\u001b[0;34m)\u001b[0m\u001b[0;34m\u001b[0m\u001b[0;34m\u001b[0m\u001b[0m\n\u001b[0;32m----> 7\u001b[0;31m \u001b[0mnext\u001b[0m\u001b[0;34m(\u001b[0m\u001b[0mrandom_iter\u001b[0m\u001b[0;34m)\u001b[0m\u001b[0;34m\u001b[0m\u001b[0;34m\u001b[0m\u001b[0m\n\u001b[0m",
            "\u001b[0;31mStopIteration\u001b[0m: "
          ]
        }
      ]
    },
    {
      "cell_type": "markdown",
      "source": [
        "А що якщо викликати цю ж функцію на рядку?"
      ],
      "metadata": {
        "id": "aekWHGXOLRsO"
      }
    },
    {
      "cell_type": "code",
      "source": [
        "next(random_str)"
      ],
      "metadata": {
        "id": "mxATGsErLV1i",
        "colab": {
          "base_uri": "https://localhost:8080/",
          "height": 141
        },
        "outputId": "65b0873e-435a-4b21-c636-8d5d3941c9b2"
      },
      "execution_count": 18,
      "outputs": [
        {
          "output_type": "error",
          "ename": "TypeError",
          "evalue": "'str' object is not an iterator",
          "traceback": [
            "\u001b[0;31m---------------------------------------------------------------------------\u001b[0m",
            "\u001b[0;31mTypeError\u001b[0m                                 Traceback (most recent call last)",
            "\u001b[0;32m<ipython-input-18-d6e8615a6797>\u001b[0m in \u001b[0;36m<cell line: 0>\u001b[0;34m()\u001b[0m\n\u001b[0;32m----> 1\u001b[0;31m \u001b[0mnext\u001b[0m\u001b[0;34m(\u001b[0m\u001b[0mrandom_str\u001b[0m\u001b[0;34m)\u001b[0m\u001b[0;34m\u001b[0m\u001b[0;34m\u001b[0m\u001b[0m\n\u001b[0m",
            "\u001b[0;31mTypeError\u001b[0m: 'str' object is not an iterator"
          ]
        }
      ]
    },
    {
      "cell_type": "markdown",
      "source": [
        " 12. (5б). Опишіть своїми словами в одному реченні, як ви розумієте різницю між ітерабельними обʼєктами та ітераторами (можна на прикладі)."
      ],
      "metadata": {
        "id": "XwtMEopwJ4pH"
      }
    },
    {
      "cell_type": "markdown",
      "source": [
        "Ітерабельний об'єкт — це об'єкт, по якому можна здійснювати ітерацію (рядок), а ітератор — це конкретний об'єкт, який проходиться по елементах по черзі за допомогою функції next()."
      ],
      "metadata": {
        "id": "-sHrODc3KFn8"
      }
    },
    {
      "cell_type": "markdown",
      "source": [
        "13. (11б). Створіть клас, що має визначений Iterator Protocol та при кожному виклику next повертає назву дня тижня, поки вони не вичерпаються. Зверніть увагу, що порядок має значення."
      ],
      "metadata": {
        "id": "E9qJWmNbK8Gl"
      }
    },
    {
      "cell_type": "code",
      "source": [
        "from collections.abc import Iterator\n",
        "\n",
        "class Week_Iterator(Iterator):\n",
        "\n",
        "    def __init__(self):\n",
        "        self.days = [\"Monday\", \"Tuesday\", \"Wednesday\", \"Thursday\", \"Friday\", \"Saturday\", \"Sunday\"]\n",
        "        self.index = 0\n",
        "\n",
        "    def __iter__(self):\n",
        "        return self\n",
        "\n",
        "    def __next__(self):\n",
        "       if self.index>= len(self.days):\n",
        "           raise StopIteration\n",
        "       day = self.days[self.index]\n",
        "       self.index +=1\n",
        "       return day\n",
        "\n",
        "week = Week_Iterator()\n",
        "for day in week:\n",
        "    print(day)"
      ],
      "metadata": {
        "id": "cqx-g_RsLo6I",
        "colab": {
          "base_uri": "https://localhost:8080/"
        },
        "outputId": "83ab6f50-5f7c-474b-f8d4-b31051a67d86"
      },
      "execution_count": 20,
      "outputs": [
        {
          "output_type": "stream",
          "name": "stdout",
          "text": [
            "Monday\n",
            "Tuesday\n",
            "Wednesday\n",
            "Thursday\n",
            "Friday\n",
            "Saturday\n",
            "Sunday\n"
          ]
        }
      ]
    },
    {
      "cell_type": "markdown",
      "source": [
        "# Вітаю! Ви велика(ий) молодець, що впоралась(вся). Похваліть себе та побалуйте чимось приємним. Я Вами пишаюся."
      ],
      "metadata": {
        "id": "Z3E3S_s1Fv7-"
      }
    }
  ]
}